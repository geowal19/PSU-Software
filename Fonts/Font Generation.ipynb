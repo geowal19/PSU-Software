{
 "cells": [
  {
   "cell_type": "code",
   "execution_count": 2,
   "metadata": {},
   "outputs": [],
   "source": [
    "import numpy as np\n",
    "import glob"
   ]
  },
  {
   "cell_type": "code",
   "execution_count": null,
   "metadata": {},
   "outputs": [],
   "source": []
  },
  {
   "cell_type": "code",
   "execution_count": 4,
   "metadata": {},
   "outputs": [],
   "source": [
    "f = open('font.h', 'w+')\n",
    "f.close()\n",
    "\n",
    "for file in glob.glob('*.data'):\n",
    "    \n",
    "    # Get the raw data\n",
    "    f = open(file, 'rb')\n",
    "    data = f.read()\n",
    "    f.close()\n",
    "    \n",
    "    # Output it to the font.h file\n",
    "    f = open('font.h', 'a+')\n",
    "\n",
    "    f.write(f'uint8_t {file.split(\".\")[0]}')\n",
    "    f.write('[] = {')\n",
    "\n",
    "    for b in data[:-1]:\n",
    "        f.write(f'{b}, ')\n",
    "\n",
    "    for b in data[-1:]:\n",
    "        f.write(f'{b}' + '};\\n')\n",
    "    f.close()"
   ]
  },
  {
   "cell_type": "code",
   "execution_count": null,
   "metadata": {},
   "outputs": [],
   "source": []
  },
  {
   "cell_type": "code",
   "execution_count": null,
   "metadata": {},
   "outputs": [],
   "source": [
    "f = open('font.h', 'w+')\n",
    "f.close()"
   ]
  },
  {
   "cell_type": "code",
   "execution_count": 6,
   "metadata": {},
   "outputs": [],
   "source": [
    "# Get the raw data\n",
    "f = open('gui_design_background.data', 'rb')\n",
    "data = f.read()\n",
    "f.close()\n",
    "\n",
    "# Output it to the font.h file\n",
    "f = open('background.h', 'w+')\n",
    "\n",
    "f.write(f'uint8_t back_ground')\n",
    "f.write('[] = {')\n",
    "\n",
    "for b in data[:-1]:\n",
    "    f.write(f'{b}, ')\n",
    "\n",
    "for b in data[-1:]:\n",
    "    f.write(f'{b}' + '};\\n')\n",
    "f.close()"
   ]
  },
  {
   "cell_type": "code",
   "execution_count": null,
   "metadata": {},
   "outputs": [],
   "source": []
  },
  {
   "cell_type": "code",
   "execution_count": null,
   "metadata": {},
   "outputs": [],
   "source": []
  },
  {
   "cell_type": "code",
   "execution_count": null,
   "metadata": {},
   "outputs": [],
   "source": []
  }
 ],
 "metadata": {
  "kernelspec": {
   "display_name": "Python 3",
   "language": "python",
   "name": "python3"
  },
  "language_info": {
   "codemirror_mode": {
    "name": "ipython",
    "version": 3
   },
   "file_extension": ".py",
   "mimetype": "text/x-python",
   "name": "python",
   "nbconvert_exporter": "python",
   "pygments_lexer": "ipython3",
   "version": "3.8.5"
  }
 },
 "nbformat": 4,
 "nbformat_minor": 4
}
