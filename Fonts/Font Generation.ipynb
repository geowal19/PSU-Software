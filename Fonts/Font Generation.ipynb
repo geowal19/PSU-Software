{
 "cells": [
  {
   "cell_type": "code",
   "execution_count": 1,
   "metadata": {},
   "outputs": [],
   "source": [
    "import numpy as np\n",
    "import glob\n",
    "from PIL import Image"
   ]
  },
  {
   "cell_type": "code",
   "execution_count": null,
   "metadata": {},
   "outputs": [],
   "source": []
  },
  {
   "cell_type": "code",
   "execution_count": 60,
   "metadata": {},
   "outputs": [
    {
     "name": "stdout",
     "output_type": "stream",
     "text": [
      "char_7.data\n",
      "char_6.data\n",
      "char_1.data\n",
      "char_dp.data\n",
      "char_0.data\n",
      "char_3.data\n",
      "char_2.data\n",
      "char_9.data\n",
      "char_5.data\n",
      "char_4.data\n",
      "char_8.data\n"
     ]
    }
   ],
   "source": [
    "height = 90\n",
    "\n",
    "f = open('font.h', 'w+')\n",
    "f.close()\n",
    "\n",
    "for file in glob.glob('*.data'):\n",
    "        \n",
    "    print(file)\n",
    "    \n",
    "    # Get the raw data\n",
    "    f = open(file, 'rb')\n",
    "    data = f.read()\n",
    "    f.close()\n",
    "    \n",
    "    data = np.frombuffer(data, dtype='B')\n",
    "    \n",
    "    width = int(len(data) / (4 * height))\n",
    "\n",
    "    pixels = []\n",
    "\n",
    "    for i in range(width * height):\n",
    "\n",
    "        pixel = 255 - int(np.mean(data[i*4:(i*4)+3]))\n",
    "        pixels.append(pixel)\n",
    "    \n",
    "    # Output it to the font.h file\n",
    "    f = open('font.h', 'a+')\n",
    "\n",
    "    f.write(f'uint8_t {file.split(\".\")[0]}')\n",
    "    f.write('[] = {')\n",
    "\n",
    "    for b in pixels[:-1]:\n",
    "        f.write(f'{b}, ')\n",
    "\n",
    "    for b in pixels[-1:]:\n",
    "        f.write(f'{b}' + '};\\n')\n",
    "    f.close()"
   ]
  },
  {
   "cell_type": "code",
   "execution_count": null,
   "metadata": {},
   "outputs": [],
   "source": []
  },
  {
   "cell_type": "code",
   "execution_count": null,
   "metadata": {},
   "outputs": [],
   "source": [
    "f = open('font.h', 'w+')\n",
    "f.close()"
   ]
  },
  {
   "cell_type": "code",
   "execution_count": 24,
   "metadata": {},
   "outputs": [],
   "source": [
    "# Get the raw data\n",
    "f = open('gui_design_background.data', 'rb')\n",
    "data = f.read()\n",
    "f.close()\n",
    "\n",
    "# Output it to the font.h file\n",
    "f = open('background.h', 'w+')\n",
    "\n",
    "f.write(f'const uint8_t background')\n",
    "f.write('[] = {')\n",
    "\n",
    "for b in data[:-1]:\n",
    "    f.write(f'{b}, ')\n",
    "\n",
    "for b in data[-1:]:\n",
    "    f.write(f'{b}' + '};\\n')\n",
    "f.close()"
   ]
  },
  {
   "cell_type": "code",
   "execution_count": null,
   "metadata": {},
   "outputs": [],
   "source": []
  },
  {
   "cell_type": "code",
   "execution_count": null,
   "metadata": {},
   "outputs": [],
   "source": []
  },
  {
   "cell_type": "code",
   "execution_count": null,
   "metadata": {},
   "outputs": [],
   "source": []
  },
  {
   "cell_type": "code",
   "execution_count": 24,
   "metadata": {
    "scrolled": false
   },
   "outputs": [],
   "source": [
    "im = Image.open('gui_design_background.bmp')\n",
    "data = np.array(im)\n",
    "\n",
    "image = []\n",
    "\n",
    "for x in range(480):\n",
    "    for y in range(800):\n",
    "        image.append(int(np.mean(data[x][y][0:3])))\n",
    "\n",
    "# Output it to the font.h file\n",
    "f = open('background.h', 'w+')\n",
    "\n",
    "f.write('const uint8_t background')\n",
    "f.write('[] = {')\n",
    "\n",
    "for b in image[:-1]:\n",
    "    f.write(f'{b}, ')\n",
    "\n",
    "for b in image[-1:]:\n",
    "    f.write(f'{b}' + '};\\n')\n",
    "f.close()"
   ]
  },
  {
   "cell_type": "code",
   "execution_count": 45,
   "metadata": {
    "scrolled": true
   },
   "outputs": [],
   "source": []
  },
  {
   "cell_type": "code",
   "execution_count": null,
   "metadata": {},
   "outputs": [],
   "source": []
  },
  {
   "cell_type": "code",
   "execution_count": 46,
   "metadata": {},
   "outputs": [],
   "source": []
  },
  {
   "cell_type": "code",
   "execution_count": 50,
   "metadata": {},
   "outputs": [],
   "source": []
  },
  {
   "cell_type": "code",
   "execution_count": null,
   "metadata": {},
   "outputs": [],
   "source": []
  },
  {
   "cell_type": "code",
   "execution_count": null,
   "metadata": {},
   "outputs": [],
   "source": []
  },
  {
   "cell_type": "code",
   "execution_count": null,
   "metadata": {},
   "outputs": [],
   "source": []
  }
 ],
 "metadata": {
  "kernelspec": {
   "display_name": "Python 3",
   "language": "python",
   "name": "python3"
  },
  "language_info": {
   "codemirror_mode": {
    "name": "ipython",
    "version": 3
   },
   "file_extension": ".py",
   "mimetype": "text/x-python",
   "name": "python",
   "nbconvert_exporter": "python",
   "pygments_lexer": "ipython3",
   "version": "3.8.5"
  }
 },
 "nbformat": 4,
 "nbformat_minor": 4
}
