{
 "cells": [
  {
   "cell_type": "code",
   "execution_count": 3,
   "metadata": {},
   "outputs": [],
   "source": [
    "import numpy as np\n",
    "import glob\n",
    "from PIL import Image"
   ]
  },
  {
   "cell_type": "code",
   "execution_count": null,
   "metadata": {},
   "outputs": [],
   "source": []
  },
  {
   "cell_type": "code",
   "execution_count": 4,
   "metadata": {},
   "outputs": [],
   "source": [
    "f = open('font.h', 'w+')\n",
    "f.close()\n",
    "\n",
    "for file in glob.glob('*.data'):\n",
    "    \n",
    "    # Get the raw data\n",
    "    f = open(file, 'rb')\n",
    "    data = f.read()\n",
    "    f.close()\n",
    "    \n",
    "    # Output it to the font.h file\n",
    "    f = open('font.h', 'a+')\n",
    "\n",
    "    f.write(f'uint8_t {file.split(\".\")[0]}')\n",
    "    f.write('[] = {')\n",
    "\n",
    "    for b in data[:-1]:\n",
    "        f.write(f'{b}, ')\n",
    "\n",
    "    for b in data[-1:]:\n",
    "        f.write(f'{b}' + '};\\n')\n",
    "    f.close()"
   ]
  },
  {
   "cell_type": "code",
   "execution_count": null,
   "metadata": {},
   "outputs": [],
   "source": []
  },
  {
   "cell_type": "code",
   "execution_count": null,
   "metadata": {},
   "outputs": [],
   "source": [
    "f = open('font.h', 'w+')\n",
    "f.close()"
   ]
  },
  {
   "cell_type": "code",
   "execution_count": 24,
   "metadata": {},
   "outputs": [],
   "source": [
    "# Get the raw data\n",
    "f = open('gui_design_background.data', 'rb')\n",
    "data = f.read()\n",
    "f.close()\n",
    "\n",
    "# Output it to the font.h file\n",
    "f = open('background.h', 'w+')\n",
    "\n",
    "f.write(f'const uint8_t background')\n",
    "f.write('[] = {')\n",
    "\n",
    "for b in data[:-1]:\n",
    "    f.write(f'{b}, ')\n",
    "\n",
    "for b in data[-1:]:\n",
    "    f.write(f'{b}' + '};\\n')\n",
    "f.close()"
   ]
  },
  {
   "cell_type": "code",
   "execution_count": null,
   "metadata": {},
   "outputs": [],
   "source": []
  },
  {
   "cell_type": "code",
   "execution_count": null,
   "metadata": {},
   "outputs": [],
   "source": []
  },
  {
   "cell_type": "code",
   "execution_count": null,
   "metadata": {},
   "outputs": [],
   "source": []
  },
  {
   "cell_type": "code",
   "execution_count": 64,
   "metadata": {},
   "outputs": [],
   "source": [
    "im = Image.open('gui_design_background.bmp')\n",
    "data = np.array(im)\n",
    "\n",
    "for x in range(480):\n",
    "    for y in range(800):\n",
    "        data[x][y] = data[x][y][::-1]\n",
    "        \n",
    "data = data.flatten()\n",
    "\n",
    "# Output it to the font.h file\n",
    "f = open('background.h', 'w+')\n",
    "\n",
    "f.write(f'const uint8_t background')\n",
    "f.write('[] = {')\n",
    "\n",
    "for b in data[:-1]:\n",
    "    f.write(f'{b}, ')\n",
    "\n",
    "for b in data[-1:]:\n",
    "    f.write(f'{b}' + '};\\n')\n",
    "f.close()"
   ]
  },
  {
   "cell_type": "code",
   "execution_count": 40,
   "metadata": {},
   "outputs": [],
   "source": []
  },
  {
   "cell_type": "code",
   "execution_count": 41,
   "metadata": {},
   "outputs": [
    {
     "data": {
      "text/plain": [
       "1536000"
      ]
     },
     "execution_count": 41,
     "metadata": {},
     "output_type": "execute_result"
    }
   ],
   "source": [
    "len(data)"
   ]
  },
  {
   "cell_type": "code",
   "execution_count": 59,
   "metadata": {},
   "outputs": [
    {
     "data": {
      "text/plain": [
       "480"
      ]
     },
     "execution_count": 59,
     "metadata": {},
     "output_type": "execute_result"
    }
   ],
   "source": [
    "len(data)"
   ]
  },
  {
   "cell_type": "code",
   "execution_count": 62,
   "metadata": {},
   "outputs": [],
   "source": []
  },
  {
   "cell_type": "code",
   "execution_count": null,
   "metadata": {},
   "outputs": [],
   "source": []
  }
 ],
 "metadata": {
  "kernelspec": {
   "display_name": "Python 3",
   "language": "python",
   "name": "python3"
  },
  "language_info": {
   "codemirror_mode": {
    "name": "ipython",
    "version": 3
   },
   "file_extension": ".py",
   "mimetype": "text/x-python",
   "name": "python",
   "nbconvert_exporter": "python",
   "pygments_lexer": "ipython3",
   "version": "3.8.5"
  }
 },
 "nbformat": 4,
 "nbformat_minor": 4
}
